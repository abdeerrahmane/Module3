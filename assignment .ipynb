{
    "cells": [
        {
            "cell_type": "markdown",
            "metadata": {
                "collapsed": true
            },
            "source": "# My Jupyter Notebook on IBM Watson Studio"
        },
        {
            "cell_type": "markdown",
            "metadata": {},
            "source": "**Abderrahmane ZAYOUDI**"
        },
        {
            "cell_type": "markdown",
            "metadata": {},
            "source": "_I am interested in data science because i'm a student of big data and administration systeme_"
        },
        {
            "cell_type": "markdown",
            "metadata": {},
            "source": " ### the following code is do an somme of  two number"
        },
        {
            "cell_type": "code",
            "execution_count": 7,
            "metadata": {},
            "outputs": [
                {
                    "data": {
                        "text/plain": "6"
                    },
                    "execution_count": 7,
                    "metadata": {},
                    "output_type": "execute_result"
                }
            ],
            "source": "x=2 \ny=4 \nz=x+y \nz\n"
        },
        {
            "cell_type": "markdown",
            "metadata": {},
            "source": "### Lists\n* One \n* Two\n* three\n"
        },
        {
            "cell_type": "markdown",
            "metadata": {},
            "source": "### Tables\n\n| Tables        | Are           | \n| ------------- |:-------------:|\n| col 3 is      | right-aligned | \n| col 2 is      | centered      |   \n| zebra stripes | are neat      |   "
        },
        {
            "cell_type": "code",
            "execution_count": null,
            "metadata": {},
            "outputs": [],
            "source": ""
        }
    ],
    "metadata": {
        "kernelspec": {
            "display_name": "Python 3.7",
            "language": "python",
            "name": "python3"
        },
        "language_info": {
            "codemirror_mode": {
                "name": "ipython",
                "version": 3
            },
            "file_extension": ".py",
            "mimetype": "text/x-python",
            "name": "python",
            "nbconvert_exporter": "python",
            "pygments_lexer": "ipython3",
            "version": "3.7.9"
        }
    },
    "nbformat": 4,
    "nbformat_minor": 1
}